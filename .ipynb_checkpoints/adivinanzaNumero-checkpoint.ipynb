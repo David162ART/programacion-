{
 "cells": [
  {
   "cell_type": "code",
   "execution_count": 13,
   "id": "1e18d1af",
   "metadata": {},
   "outputs": [
    {
     "name": "stdout",
     "output_type": "stream",
     "text": [
      "================================\n",
      "Bienvenido al juego del ahorcado\n",
      "================================\n",
      "ingrese una letra....N\n",
      "Se encontro la letra n  en la posicion 2 \n",
      "Se encontro la letra n  en la posicion 7 \n",
      "jugando....\n"
     ]
    },
    {
     "ename": "KeyboardInterrupt",
     "evalue": "Interrupted by user",
     "output_type": "error",
     "traceback": [
      "\u001b[1;31m---------------------------------------------------------------------------\u001b[0m",
      "\u001b[1;31mKeyboardInterrupt\u001b[0m                         Traceback (most recent call last)",
      "\u001b[1;32m~\\AppData\\Local\\Temp\\ipykernel_10408\\3666775831.py\u001b[0m in \u001b[0;36m<module>\u001b[1;34m\u001b[0m\n\u001b[0;32m     24\u001b[0m \u001b[1;33m\u001b[0m\u001b[0m\n\u001b[0;32m     25\u001b[0m \u001b[1;32mif\u001b[0m\u001b[1;33m(\u001b[0m\u001b[0m__name__\u001b[0m\u001b[1;33m==\u001b[0m\u001b[1;34m\"__main__\"\u001b[0m\u001b[1;33m)\u001b[0m\u001b[1;33m:\u001b[0m\u001b[1;33m\u001b[0m\u001b[1;33m\u001b[0m\u001b[0m\n\u001b[1;32m---> 26\u001b[1;33m     \u001b[0mjugar\u001b[0m\u001b[1;33m(\u001b[0m\u001b[1;33m)\u001b[0m\u001b[1;33m\u001b[0m\u001b[1;33m\u001b[0m\u001b[0m\n\u001b[0m",
      "\u001b[1;32m~\\AppData\\Local\\Temp\\ipykernel_10408\\3666775831.py\u001b[0m in \u001b[0;36mjugar\u001b[1;34m()\u001b[0m\n\u001b[0;32m     10\u001b[0m \u001b[1;33m\u001b[0m\u001b[0m\n\u001b[0;32m     11\u001b[0m     \u001b[1;32mwhile\u001b[0m\u001b[1;33m(\u001b[0m\u001b[1;32mnot\u001b[0m \u001b[0mahorcado\u001b[0m \u001b[1;32mand\u001b[0m \u001b[1;32mnot\u001b[0m \u001b[0macerto\u001b[0m\u001b[1;33m)\u001b[0m\u001b[1;33m:\u001b[0m\u001b[1;33m\u001b[0m\u001b[1;33m\u001b[0m\u001b[0m\n\u001b[1;32m---> 12\u001b[1;33m         \u001b[0mentrada\u001b[0m \u001b[1;33m=\u001b[0m \u001b[0minput\u001b[0m  \u001b[1;33m(\u001b[0m\u001b[1;34m\"ingrese una letra....\"\u001b[0m\u001b[1;33m)\u001b[0m\u001b[1;33m\u001b[0m\u001b[1;33m\u001b[0m\u001b[0m\n\u001b[0m\u001b[0;32m     13\u001b[0m         \u001b[0mentrada\u001b[0m \u001b[1;33m=\u001b[0m \u001b[0mentrada\u001b[0m\u001b[1;33m.\u001b[0m\u001b[0mstrip\u001b[0m\u001b[1;33m(\u001b[0m\u001b[1;33m)\u001b[0m\u001b[1;33m\u001b[0m\u001b[1;33m\u001b[0m\u001b[0m\n\u001b[0;32m     14\u001b[0m         \u001b[0mentrada\u001b[0m \u001b[1;33m=\u001b[0m \u001b[0mentrada\u001b[0m\u001b[1;33m.\u001b[0m\u001b[0mlower\u001b[0m\u001b[1;33m(\u001b[0m\u001b[1;33m)\u001b[0m\u001b[1;33m\u001b[0m\u001b[1;33m\u001b[0m\u001b[0m\n",
      "\u001b[1;32mC:\\ProgramData\\Anaconda3\\lib\\site-packages\\ipykernel\\kernelbase.py\u001b[0m in \u001b[0;36mraw_input\u001b[1;34m(self, prompt)\u001b[0m\n\u001b[0;32m   1175\u001b[0m                 \u001b[1;34m\"raw_input was called, but this frontend does not support input requests.\"\u001b[0m\u001b[1;33m\u001b[0m\u001b[1;33m\u001b[0m\u001b[0m\n\u001b[0;32m   1176\u001b[0m             )\n\u001b[1;32m-> 1177\u001b[1;33m         return self._input_request(\n\u001b[0m\u001b[0;32m   1178\u001b[0m             \u001b[0mstr\u001b[0m\u001b[1;33m(\u001b[0m\u001b[0mprompt\u001b[0m\u001b[1;33m)\u001b[0m\u001b[1;33m,\u001b[0m\u001b[1;33m\u001b[0m\u001b[1;33m\u001b[0m\u001b[0m\n\u001b[0;32m   1179\u001b[0m             \u001b[0mself\u001b[0m\u001b[1;33m.\u001b[0m\u001b[0m_parent_ident\u001b[0m\u001b[1;33m[\u001b[0m\u001b[1;34m\"shell\"\u001b[0m\u001b[1;33m]\u001b[0m\u001b[1;33m,\u001b[0m\u001b[1;33m\u001b[0m\u001b[1;33m\u001b[0m\u001b[0m\n",
      "\u001b[1;32mC:\\ProgramData\\Anaconda3\\lib\\site-packages\\ipykernel\\kernelbase.py\u001b[0m in \u001b[0;36m_input_request\u001b[1;34m(self, prompt, ident, parent, password)\u001b[0m\n\u001b[0;32m   1217\u001b[0m             \u001b[1;32mexcept\u001b[0m \u001b[0mKeyboardInterrupt\u001b[0m\u001b[1;33m:\u001b[0m\u001b[1;33m\u001b[0m\u001b[1;33m\u001b[0m\u001b[0m\n\u001b[0;32m   1218\u001b[0m                 \u001b[1;31m# re-raise KeyboardInterrupt, to truncate traceback\u001b[0m\u001b[1;33m\u001b[0m\u001b[1;33m\u001b[0m\u001b[0m\n\u001b[1;32m-> 1219\u001b[1;33m                 \u001b[1;32mraise\u001b[0m \u001b[0mKeyboardInterrupt\u001b[0m\u001b[1;33m(\u001b[0m\u001b[1;34m\"Interrupted by user\"\u001b[0m\u001b[1;33m)\u001b[0m \u001b[1;32mfrom\u001b[0m \u001b[1;32mNone\u001b[0m\u001b[1;33m\u001b[0m\u001b[1;33m\u001b[0m\u001b[0m\n\u001b[0m\u001b[0;32m   1220\u001b[0m             \u001b[1;32mexcept\u001b[0m \u001b[0mException\u001b[0m\u001b[1;33m:\u001b[0m\u001b[1;33m\u001b[0m\u001b[1;33m\u001b[0m\u001b[0m\n\u001b[0;32m   1221\u001b[0m                 \u001b[0mself\u001b[0m\u001b[1;33m.\u001b[0m\u001b[0mlog\u001b[0m\u001b[1;33m.\u001b[0m\u001b[0mwarning\u001b[0m\u001b[1;33m(\u001b[0m\u001b[1;34m\"Invalid Message:\"\u001b[0m\u001b[1;33m,\u001b[0m \u001b[0mexc_info\u001b[0m\u001b[1;33m=\u001b[0m\u001b[1;32mTrue\u001b[0m\u001b[1;33m)\u001b[0m\u001b[1;33m\u001b[0m\u001b[1;33m\u001b[0m\u001b[0m\n",
      "\u001b[1;31mKeyboardInterrupt\u001b[0m: Interrupted by user"
     ]
    }
   ],
   "source": [
    "def jugar():\n",
    "    print(\"================================\")\n",
    "    print(\"Bienvenido al juego del ahorcado\")\n",
    "    print(\"================================\")\n",
    "    \n",
    "    palabra_secreta = \"mandarina\"\n",
    "    \n",
    "    ahorcado = False\n",
    "    acerto = False\n",
    "    \n",
    "    while(not ahorcado and not acerto):\n",
    "        entrada = input  (\"ingrese una letra....\")\n",
    "        entrada = entrada.strip()\n",
    "        entrada = entrada.lower()\n",
    "        indice = 0\n",
    "        for letra in palabra_secreta:\n",
    "            if(entrada==letra):\n",
    "                print(\"Se encontro la letra {}  en la posicion {} \".format(letra,indice))\n",
    "         \n",
    "            indice = indice + 1\n",
    "        print(\"jugando....\")\n",
    "        \n",
    "    print(\"Fin del juego\")\n",
    "    \n",
    "if(__name__==\"__main__\"):\n",
    "    jugar()"
   ]
  },
  {
   "cell_type": "code",
   "execution_count": null,
   "id": "b8a1bafb",
   "metadata": {},
   "outputs": [],
   "source": [
    "palabra = \"manadarina\"\n",
    "palabra.capitaze() #convierte la pirmera letra en mayuscula"
   ]
  },
  {
   "cell_type": "code",
   "execution_count": null,
   "id": "9275e15f",
   "metadata": {},
   "outputs": [],
   "source": [
    "palabra.endswith(\"na\") # busca una sub cadena al final si encuentra lo mostrara"
   ]
  },
  {
   "cell_type": "code",
   "execution_count": null,
   "id": "4601531d",
   "metadata": {},
   "outputs": [],
   "source": [
    "palabra2 = \"PROGRAMACION TRES\"\n",
    "palabra2.lower() #Convierte todo en miniscula"
   ]
  },
  {
   "cell_type": "code",
   "execution_count": null,
   "id": "b8932afb",
   "metadata": {},
   "outputs": [],
   "source": [
    "palabra.upper() #convierte la cadena en mayuscula"
   ]
  },
  {
   "cell_type": "code",
   "execution_count": 9,
   "id": "ec259c77",
   "metadata": {},
   "outputs": [
    {
     "data": {
      "text/plain": [
       "'abc'"
      ]
     },
     "execution_count": 9,
     "metadata": {},
     "output_type": "execute_result"
    }
   ],
   "source": [
    "palabra = \"    abc   \"\n",
    "palabra.strip() #elimina el espacio en blanco"
   ]
  },
  {
   "cell_type": "code",
   "execution_count": null,
   "id": "955a31ae",
   "metadata": {},
   "outputs": [],
   "source": [
    "palabra = \"manadarina\"\n",
    "type(palabra)"
   ]
  },
  {
   "cell_type": "code",
   "execution_count": null,
   "id": "1b44451d",
   "metadata": {},
   "outputs": [],
   "source": [
    "palabra.find(\"m\") #es para buscar en la cadena la letra m "
   ]
  },
  {
   "cell_type": "code",
   "execution_count": null,
   "id": "6a0d3fa3",
   "metadata": {},
   "outputs": [],
   "source": [
    "palabra.find(\"d\")\n"
   ]
  },
  {
   "cell_type": "code",
   "execution_count": 10,
   "id": "62ce9ac6",
   "metadata": {},
   "outputs": [
    {
     "data": {
      "text/plain": [
       "-1"
      ]
     },
     "execution_count": 10,
     "metadata": {},
     "output_type": "execute_result"
    }
   ],
   "source": [
    "palabra.find(\"z\")"
   ]
  },
  {
   "cell_type": "code",
   "execution_count": 24,
   "id": "3354c767",
   "metadata": {},
   "outputs": [],
   "source": [
    "valores = [0,1,2,3,4,5,7]"
   ]
  },
  {
   "cell_type": "code",
   "execution_count": 19,
   "id": "eeac7e6d",
   "metadata": {},
   "outputs": [
    {
     "data": {
      "text/plain": [
       "0"
      ]
     },
     "execution_count": 19,
     "metadata": {},
     "output_type": "execute_result"
    }
   ],
   "source": [
    "min(valores) #buscar el menor valor"
   ]
  },
  {
   "cell_type": "code",
   "execution_count": 20,
   "id": "8d0840b2",
   "metadata": {},
   "outputs": [
    {
     "data": {
      "text/plain": [
       "7"
      ]
     },
     "execution_count": 20,
     "metadata": {},
     "output_type": "execute_result"
    }
   ],
   "source": [
    "max(valores) #valor maximo de la lsita"
   ]
  },
  {
   "cell_type": "code",
   "execution_count": 25,
   "id": "e37a9ca8",
   "metadata": {
    "scrolled": false
   },
   "outputs": [
    {
     "data": {
      "text/plain": [
       "7"
      ]
     },
     "execution_count": 25,
     "metadata": {},
     "output_type": "execute_result"
    }
   ],
   "source": [
    "len(valores) #cuantos elementos tiene la lista"
   ]
  },
  {
   "cell_type": "code",
   "execution_count": null,
   "id": "c57a58e3",
   "metadata": {},
   "outputs": [],
   "source": [
    "valore = []\n",
    "type (valores)"
   ]
  },
  {
   "cell_type": "code",
   "execution_count": 22,
   "id": "f7b59d40",
   "metadata": {
    "scrolled": true
   },
   "outputs": [],
   "source": [
    "valores = [0,1,2,3,4,5,7,\"x\"]\n",
    "7 in valores"
   ]
  },
  {
   "cell_type": "code",
   "execution_count": null,
   "id": "8d872974",
   "metadata": {},
   "outputs": [],
   "source": [
    "2 in valores"
   ]
  },
  {
   "cell_type": "code",
   "execution_count": null,
   "id": "4e353cb2",
   "metadata": {},
   "outputs": [],
   "source": [
    "\"a\" in \"mandarina\""
   ]
  },
  {
   "cell_type": "code",
   "execution_count": null,
   "id": "04660a94",
   "metadata": {},
   "outputs": [],
   "source": [
    "valores [4]"
   ]
  },
  {
   "cell_type": "code",
   "execution_count": null,
   "id": "a1d7e39b",
   "metadata": {},
   "outputs": [],
   "source": [
    "valores.append(9)\n",
    "valores"
   ]
  },
  {
   "cell_type": "code",
   "execution_count": null,
   "id": "8c6d6e99",
   "metadata": {},
   "outputs": [],
   "source": [
    "valores.pop()"
   ]
  },
  {
   "cell_type": "raw",
   "id": "d54a5f9c",
   "metadata": {},
   "source": [
    "valores"
   ]
  },
  {
   "cell_type": "code",
   "execution_count": null,
   "id": "f2071a36",
   "metadata": {},
   "outputs": [],
   "source": []
  }
 ],
 "metadata": {
  "kernelspec": {
   "display_name": "Python 3 (ipykernel)",
   "language": "python",
   "name": "python3"
  },
  "language_info": {
   "codemirror_mode": {
    "name": "ipython",
    "version": 3
   },
   "file_extension": ".py",
   "mimetype": "text/x-python",
   "name": "python",
   "nbconvert_exporter": "python",
   "pygments_lexer": "ipython3",
   "version": "3.9.13"
  }
 },
 "nbformat": 4,
 "nbformat_minor": 5
}
