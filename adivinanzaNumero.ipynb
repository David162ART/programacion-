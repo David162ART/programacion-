{
 "cells": [
  {
   "cell_type": "code",
   "execution_count": null,
   "id": "1e18d1af",
   "metadata": {},
   "outputs": [
    {
     "name": "stdout",
     "output_type": "stream",
     "text": [
      "================================\n",
      "Bienvenido al juego del ahorcado\n",
      "================================\n"
     ]
    }
   ],
   "source": [
    "def jugar():\n",
    "    print(\"================================\")\n",
    "    print(\"Bienvenido al juego del ahorcado\")\n",
    "    print(\"================================\")\n",
    "    \n",
    "    palabra_secreta = \"mandarina\"\n",
    "    \n",
    "    ahorcado = False\n",
    "    acerto = False\n",
    "    \n",
    "    while(not ahorcado and not acerto):\n",
    "        entrada = input  (\"ingrese una letra....\")\n",
    "        entrada = entrada.strip()\n",
    "        entrada = entrada.lower()\n",
    "        indice = 0\n",
    "        for letra in palabra_secreta:\n",
    "            if(entrada==letra):\n",
    "                print(\"Se encontro la letra {}  en la posicion {} \".format(letra,indice))\n",
    "         \n",
    "            indice = indice + 1\n",
    "        print(\"jugando....\")\n",
    "        \n",
    "    print(\"Fin del juego\")\n",
    "    \n",
    "if(__name__==\"__main__\"):\n",
    "    jugar()"
   ]
  },
  {
   "cell_type": "code",
   "execution_count": null,
   "id": "b8a1bafb",
   "metadata": {},
   "outputs": [],
   "source": [
    "palabra = \"manadarina\"\n",
    "palabra.capitaze() #convierte la pirmera letra en mayuscula"
   ]
  },
  {
   "cell_type": "code",
   "execution_count": null,
   "id": "9275e15f",
   "metadata": {},
   "outputs": [],
   "source": [
    "palabra.endswith(\"na\") # busca una sub cadena al final si encuentra lo mostrara"
   ]
  },
  {
   "cell_type": "code",
   "execution_count": null,
   "id": "4601531d",
   "metadata": {},
   "outputs": [],
   "source": [
    "palabra2 = \"PROGRAMACION TRES\"\n",
    "palabra2.lower() #Convierte todo en miniscula"
   ]
  },
  {
   "cell_type": "code",
   "execution_count": null,
   "id": "b8932afb",
   "metadata": {},
   "outputs": [],
   "source": [
    "palabra.upper() #convierte la cadena en mayuscula"
   ]
  },
  {
   "cell_type": "code",
   "execution_count": 9,
   "id": "ec259c77",
   "metadata": {},
   "outputs": [
    {
     "data": {
      "text/plain": [
       "'abc'"
      ]
     },
     "execution_count": 9,
     "metadata": {},
     "output_type": "execute_result"
    }
   ],
   "source": [
    "palabra = \"    abc   \"\n",
    "palabra.strip() #elimina el espacio en blanco"
   ]
  },
  {
   "cell_type": "code",
   "execution_count": null,
   "id": "955a31ae",
   "metadata": {},
   "outputs": [],
   "source": [
    "palabra = \"manadarina\"\n",
    "type(palabra)"
   ]
  },
  {
   "cell_type": "code",
   "execution_count": null,
   "id": "1b44451d",
   "metadata": {},
   "outputs": [],
   "source": [
    "palabra.find(\"m\") #es para buscar en la cadena la letra m "
   ]
  },
  {
   "cell_type": "code",
   "execution_count": null,
   "id": "6a0d3fa3",
   "metadata": {},
   "outputs": [],
   "source": [
    "palabra.find(\"d\")\n"
   ]
  },
  {
   "cell_type": "code",
   "execution_count": 10,
   "id": "62ce9ac6",
   "metadata": {},
   "outputs": [
    {
     "data": {
      "text/plain": [
       "-1"
      ]
     },
     "execution_count": 10,
     "metadata": {},
     "output_type": "execute_result"
    }
   ],
   "source": [
    "palabra.find(\"z\")"
   ]
  },
  {
   "cell_type": "code",
   "execution_count": 24,
   "id": "3354c767",
   "metadata": {},
   "outputs": [],
   "source": [
    "valores = [0,1,2,3,4,5,7]"
   ]
  },
  {
   "cell_type": "code",
   "execution_count": 19,
   "id": "eeac7e6d",
   "metadata": {},
   "outputs": [
    {
     "data": {
      "text/plain": [
       "0"
      ]
     },
     "execution_count": 19,
     "metadata": {},
     "output_type": "execute_result"
    }
   ],
   "source": [
    "min(valores) #buscar el menor valor"
   ]
  },
  {
   "cell_type": "code",
   "execution_count": 20,
   "id": "8d0840b2",
   "metadata": {},
   "outputs": [
    {
     "data": {
      "text/plain": [
       "7"
      ]
     },
     "execution_count": 20,
     "metadata": {},
     "output_type": "execute_result"
    }
   ],
   "source": [
    "max(valores) #valor maximo de la lsita"
   ]
  },
  {
   "cell_type": "code",
   "execution_count": 25,
   "id": "e37a9ca8",
   "metadata": {
    "scrolled": false
   },
   "outputs": [
    {
     "data": {
      "text/plain": [
       "7"
      ]
     },
     "execution_count": 25,
     "metadata": {},
     "output_type": "execute_result"
    }
   ],
   "source": [
    "len(valores) #cuantos elementos tiene la lista"
   ]
  },
  {
   "cell_type": "code",
   "execution_count": null,
   "id": "c57a58e3",
   "metadata": {},
   "outputs": [],
   "source": [
    "valore = []\n",
    "type (valores)"
   ]
  },
  {
   "cell_type": "code",
   "execution_count": 22,
   "id": "f7b59d40",
   "metadata": {
    "scrolled": true
   },
   "outputs": [],
   "source": [
    "valores = [0,1,2,3,4,5,7,\"x\"]\n",
    "7 in valores"
   ]
  },
  {
   "cell_type": "code",
   "execution_count": null,
   "id": "8d872974",
   "metadata": {},
   "outputs": [],
   "source": [
    "2 in valores"
   ]
  },
  {
   "cell_type": "code",
   "execution_count": null,
   "id": "4e353cb2",
   "metadata": {},
   "outputs": [],
   "source": [
    "\"a\" in \"mandarina\""
   ]
  },
  {
   "cell_type": "code",
   "execution_count": null,
   "id": "04660a94",
   "metadata": {},
   "outputs": [],
   "source": [
    "valores [4]"
   ]
  },
  {
   "cell_type": "code",
   "execution_count": null,
   "id": "2b39a909",
   "metadata": {},
   "outputs": [],
   "source": [
    "valores.append(9)\n",
    "valores"
   ]
  },
  {
   "cell_type": "code",
   "execution_count": null,
   "id": "da5958e9",
   "metadata": {},
   "outputs": [],
   "source": [
    "valores.pop()"
   ]
  },
  {
   "cell_type": "raw",
   "id": "e442ea8d",
   "metadata": {},
   "source": [
    "valores"
   ]
  },
  {
   "cell_type": "code",
   "execution_count": null,
   "id": "d5a20000",
   "metadata": {},
   "outputs": [],
   "source": []
  }
 ],
 "metadata": {
  "kernelspec": {
   "display_name": "Python 3 (ipykernel)",
   "language": "python",
   "name": "python3"
  },
  "language_info": {
   "codemirror_mode": {
    "name": "ipython",
    "version": 3
   },
   "file_extension": ".py",
   "mimetype": "text/x-python",
   "name": "python",
   "nbconvert_exporter": "python",
   "pygments_lexer": "ipython3",
   "version": "3.9.13"
  }
 },
 "nbformat": 4,
 "nbformat_minor": 5
}
